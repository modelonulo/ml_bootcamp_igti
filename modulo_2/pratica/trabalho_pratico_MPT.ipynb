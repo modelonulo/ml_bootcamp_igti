{
 "cells": [
  {
   "cell_type": "code",
   "execution_count": null,
   "metadata": {},
   "outputs": [],
   "source": [
    "#importando as bibliotecas\n",
    "import pandas as pd  #bibioteca responsável para o tratamento e limpeza dos dados\n",
    "import numpy as np #biblioteca utilizada para o tratamento eficiente de dados numéricos\n",
    "import datetime  #biblioteca utilizada para trabalhar com datas\n",
    "from matplotlib import pyplot as plt  #plotar os gráficos\n",
    "import seaborn as sns #plot de gráficos"
   ]
  },
  {
   "cell_type": "code",
   "execution_count": null,
   "metadata": {},
   "outputs": [],
   "source": [
    "#carregando os dados para o pandas\n",
    "df_consultas=pd.read_csv('data.csv')"
   ]
  },
  {
   "cell_type": "code",
   "execution_count": null,
   "metadata": {},
   "outputs": [],
   "source": [
    "df_consultas.head(10)"
   ]
  },
  {
   "cell_type": "code",
   "execution_count": null,
   "metadata": {},
   "outputs": [],
   "source": [
    "df_consultas.shape"
   ]
  },
  {
   "cell_type": "code",
   "execution_count": null,
   "metadata": {},
   "outputs": [],
   "source": [
    "df_consultas.info()"
   ]
  },
  {
   "cell_type": "code",
   "execution_count": null,
   "metadata": {},
   "outputs": [],
   "source": [
    "df_consultas.isnull().sum()"
   ]
  },
  {
   "cell_type": "code",
   "execution_count": null,
   "metadata": {},
   "outputs": [],
   "source": [
    "df_consultas['No-show'].value_counts() # Yes o paciente não compareceu / No o paciente compareceu"
   ]
  },
  {
   "cell_type": "code",
   "execution_count": null,
   "metadata": {},
   "outputs": [],
   "source": [
    "df_consultas['No-show'].value_counts()['No']/len(df_consultas['No-show'])"
   ]
  },
  {
   "cell_type": "code",
   "execution_count": null,
   "metadata": {},
   "outputs": [],
   "source": [
    "#analisando as \"estatísticas do dataset\"\n",
    "df_consultas.describe()"
   ]
  },
  {
   "cell_type": "code",
   "execution_count": null,
   "metadata": {},
   "outputs": [],
   "source": [
    "#contando a quantidade de valores distintos em cada uma das colunas\n",
    "for colunas in list(df_consultas.columns):\n",
    "    print( \"{0:25} {1}\".format(colunas, df_consultas[colunas].nunique()) )"
   ]
  },
  {
   "cell_type": "markdown",
   "metadata": {},
   "source": [
    "\n",
    "\n",
    "Em quantas localidades diferentes (Neighbourhood) os pacientes residem?\n",
    "\n",
    "Comparando a identificação do paciente (PatientId) com o número dos agendamentos das consultas (AppointmentID) o que podemos inferir?\n",
    "\n",
    "Quantas variáveis binárias (apenas dois valores) existem no dataset?\n"
   ]
  },
  {
   "cell_type": "code",
   "execution_count": null,
   "metadata": {},
   "outputs": [],
   "source": [
    "#contando quantas idades diferentes existem no df\n",
    "df_consultas['Age'].nunique()"
   ]
  },
  {
   "cell_type": "code",
   "execution_count": null,
   "metadata": {},
   "outputs": [],
   "source": [
    "#contando quantas idades diferentes existem no df\n",
    "df_consultas['Age'].min()"
   ]
  },
  {
   "cell_type": "code",
   "execution_count": null,
   "metadata": {},
   "outputs": [],
   "source": [
    "df_consultas['Age'].max()"
   ]
  },
  {
   "cell_type": "code",
   "execution_count": null,
   "metadata": {},
   "outputs": [],
   "source": [
    "#plotando o histograma de algumas variáveis \n",
    "df_consultas['Age'].hist(bins=len(df_consultas['Age'].unique()))"
   ]
  },
  {
   "cell_type": "code",
   "execution_count": null,
   "metadata": {},
   "outputs": [],
   "source": [
    "df_consultas['SMS_received'].hist(bins=len(df_consultas['SMS_received'].unique()))"
   ]
  },
  {
   "cell_type": "code",
   "execution_count": null,
   "metadata": {},
   "outputs": [],
   "source": [
    "df_consultas['SMS_received'].unique()"
   ]
  },
  {
   "cell_type": "code",
   "execution_count": null,
   "metadata": {},
   "outputs": [],
   "source": [
    "#criando uma nova coluna -> Tempo de espera (diferença entre a data em que a consulta foi agendada e o dia da consulta)\n",
    "df_consultas.ScheduledDay=pd.to_datetime(df_consultas.ScheduledDay)  #transformando as colunas par o tipo datetime\n",
    "df_consultas.AppointmentDay=pd.to_datetime(df_consultas.AppointmentDay)"
   ]
  },
  {
   "cell_type": "code",
   "execution_count": null,
   "metadata": {},
   "outputs": [],
   "source": [
    "#Encontra a diferença entre o momento da marcação da consulta e o dia da consulta\n",
    "tempo_espera=df_consultas.ScheduledDay-df_consultas.AppointmentDay\n",
    "\n"
   ]
  },
  {
   "cell_type": "code",
   "execution_count": null,
   "metadata": {},
   "outputs": [],
   "source": [
    "tempo_espera[:10]"
   ]
  },
  {
   "cell_type": "code",
   "execution_count": null,
   "metadata": {},
   "outputs": [],
   "source": [
    "df_consultas['AwaitingTime']=tempo_espera.apply(lambda x: x.days) #transforma os valores em dias"
   ]
  },
  {
   "cell_type": "code",
   "execution_count": null,
   "metadata": {},
   "outputs": [],
   "source": [
    "df_consultas.head(8)"
   ]
  },
  {
   "cell_type": "code",
   "execution_count": null,
   "metadata": {},
   "outputs": [],
   "source": [
    "df_consultas.info()"
   ]
  },
  {
   "cell_type": "code",
   "execution_count": null,
   "metadata": {},
   "outputs": [],
   "source": [
    "#Encontrando as idades negativas\n",
    "df_consultas[df_consultas['Age'] < 0]['Age'].value_counts()"
   ]
  },
  {
   "cell_type": "code",
   "execution_count": null,
   "metadata": {},
   "outputs": [],
   "source": [
    "#transformando os tempo de espera para um valor não negativo\n",
    "df_consultas_filtrado['AwaitingTime'] = df_consultas_filtrado['AwaitingTime'].apply(lambda x: abs(x))"
   ]
  },
  {
   "cell_type": "code",
   "execution_count": null,
   "metadata": {},
   "outputs": [],
   "source": [
    "df_consultas_filtrado.head()"
   ]
  },
  {
   "cell_type": "code",
   "execution_count": null,
   "metadata": {},
   "outputs": [],
   "source": [
    "#aplicando a transformação para os dados categóricos\n",
    "categoricas=['Neighbourhood','Gender','No-show']\n",
    "for coluna in categoricas:\n",
    "  df_consultas_filtrado[coluna]=pd.Categorical(df_consultas_filtrado[coluna]).codes\n",
    "\n"
   ]
  },
  {
   "cell_type": "code",
   "execution_count": null,
   "metadata": {},
   "outputs": [],
   "source": [
    "df_consultas_filtrado.head(8)"
   ]
  },
  {
   "cell_type": "code",
   "execution_count": null,
   "metadata": {},
   "outputs": [],
   "source": [
    "#Qual o tipo de transformação foi utilizada?\n",
    "#analisando os SMS enviados e o número de vezes que o paciente compareceu ou não \n",
    "sms_x_comparecer = df_consultas_filtrado.groupby(['SMS_received', 'No-show'])['SMS_received'].count().unstack('No-show').fillna(0)\n",
    "sms_x_comparecer[[0, 1]].plot(kind='bar', stacked=True) \n",
    "plt.title('Analise do número de SMS recebido e se a paciente compareceu ou não à consulta') \n",
    "plt.xlabel('Numero de SMS recebidos') \n",
    "plt.ylabel('Frequência')"
   ]
  },
  {
   "cell_type": "code",
   "execution_count": null,
   "metadata": {},
   "outputs": [],
   "source": [
    "sms_x_comparecer"
   ]
  },
  {
   "cell_type": "code",
   "execution_count": null,
   "metadata": {},
   "outputs": [],
   "source": [
    "9784/(25698+9784)"
   ]
  },
  {
   "cell_type": "code",
   "execution_count": null,
   "metadata": {},
   "outputs": [],
   "source": [
    "#Qual é a proporção de pacientes que receberam o sms e NÃO compareceram?\n",
    "\n",
    "\n",
    "#plotando o número de consultas por região \n",
    "regioes = df_consultas_filtrado['Neighbourhood'].unique()\n",
    "plt.figure(figsize=(22,10))\n",
    "ax = sns.countplot(x='Neighbourhood', data=df_consultas_filtrado, order=regioes)\n",
    "ax.set_xticklabels(ax.get_xticklabels(), rotation=40, ha=\"right\", fontsize=8)\n",
    "plt.title('Consultas por região', fontsize=14, fontweight='bold')\n",
    "plt.show()\n",
    "\n"
   ]
  },
  {
   "cell_type": "code",
   "execution_count": null,
   "metadata": {},
   "outputs": [],
   "source": [
    "#Qual região possui o maior número de consultas marcadas?\n",
    "#selecionando os dados para a construção da previsão\n",
    "entradas = ['Gender','Age','Neighbourhood','Scholarship','Hipertension','Diabetes','Alcoholism','SMS_received','AwaitingTime']\n",
    "saida=['No-show']"
   ]
  },
  {
   "cell_type": "code",
   "execution_count": null,
   "metadata": {},
   "outputs": [],
   "source": [
    "x=df_consultas_filtrado[entradas]\n",
    "y=df_consultas_filtrado[saida]\n",
    "\n"
   ]
  },
  {
   "cell_type": "code",
   "execution_count": null,
   "metadata": {},
   "outputs": [],
   "source": [
    "from sklearn.model_selection import train_test_split\n",
    "x_train, x_test, y_train, y_test = train_test_split(x, y, test_size=0.3, random_state=1)\n",
    "\n"
   ]
  },
  {
   "cell_type": "code",
   "execution_count": null,
   "metadata": {},
   "outputs": [],
   "source": [
    "x_train.shape"
   ]
  },
  {
   "cell_type": "code",
   "execution_count": null,
   "metadata": {},
   "outputs": [],
   "source": [
    "#aplicando um modelo de classificação via árvore de decisão\n",
    "from sklearn.tree import DecisionTreeClassifier\n",
    "clf_arvore = DecisionTreeClassifier() \n",
    "clf_arvore.fit(x_train, y_train)"
   ]
  },
  {
   "cell_type": "code",
   "execution_count": null,
   "metadata": {},
   "outputs": [],
   "source": [
    "#realiza a previsão com os dados\n",
    "y_previsto = clf_arvore.predict(x_test)"
   ]
  },
  {
   "cell_type": "code",
   "execution_count": null,
   "metadata": {},
   "outputs": [],
   "source": [
    "from sklearn.metrics import accuracy_score\n",
    "acuracia = accuracy_score(y_test, y_previsto)\n",
    "print('Acurácia da àrvore de Decisão: ',acuracia)"
   ]
  },
  {
   "cell_type": "code",
   "execution_count": null,
   "metadata": {},
   "outputs": [],
   "source": [
    "#contrução da matriz de confusão\n",
    "from sklearn.metrics import classification_report, confusion_matrix\n",
    "matriz_confusao = confusion_matrix(y_test, y_previsto)\n",
    "print(matriz_confusao)"
   ]
  },
  {
   "cell_type": "code",
   "execution_count": null,
   "metadata": {},
   "outputs": [],
   "source": [
    "#realiza o plot da matriz de confusão\n",
    "from mlxtend.plotting import plot_confusion_matrix\n",
    "fig, ax = plot_confusion_matrix(conf_mat=matriz_confusao)\n",
    "plt.show()"
   ]
  },
  {
   "cell_type": "code",
   "execution_count": null,
   "metadata": {},
   "outputs": [],
   "source": []
  }
 ],
 "metadata": {
  "kernelspec": {
   "display_name": "Python 3",
   "language": "python",
   "name": "python3"
  },
  "language_info": {
   "codemirror_mode": {
    "name": "ipython",
    "version": 3
   },
   "file_extension": ".py",
   "mimetype": "text/x-python",
   "name": "python",
   "nbconvert_exporter": "python",
   "pygments_lexer": "ipython3",
   "version": "3.7.6"
  }
 },
 "nbformat": 4,
 "nbformat_minor": 4
}
