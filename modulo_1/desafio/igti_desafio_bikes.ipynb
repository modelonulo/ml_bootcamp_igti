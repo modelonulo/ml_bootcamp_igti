{
 "cells": [
  {
   "cell_type": "code",
   "execution_count": 1,
   "metadata": {},
   "outputs": [],
   "source": [
    "# Importando bibliotecas que serao utilizadas neste projeto\n",
    "import warnings\n",
    "warnings.filterwarnings(\"ignore\")\n",
    "\n",
    "import pandas as pd\n",
    "import numpy as np\n",
    "import seaborn as sns\n",
    "import itertools\n",
    "import matplotlib.pyplot as plt\n",
    "%matplotlib inline\n",
    "\n",
    "from IPython.core.interactiveshell import InteractiveShell\n",
    "InteractiveShell.ast_node_interactivity = \"all\""
   ]
  },
  {
   "cell_type": "code",
   "execution_count": null,
   "metadata": {},
   "outputs": [],
   "source": [
    "from google.colab import files\n",
    "uploaded = files.upload()"
   ]
  },
  {
   "cell_type": "code",
   "execution_count": null,
   "metadata": {},
   "outputs": [],
   "source": [
    "# Carregando arquivo csv usando Pandas\n",
    "train = pd.read_csv(\"comp_bikes_mod.csv\")\n",
    "\n",
    "# Visualizando o shape do dataset (17.379 linhas x 17 colunas)\n",
    "print(train.shape)\n",
    "\n",
    "# Verificando os tipos de dados\n",
    "train.info()\n",
    "\n",
    "# Visualizando as primeiras linhas do dataset\n",
    "train.head()"
   ]
  },
  {
   "cell_type": "code",
   "execution_count": null,
   "metadata": {},
   "outputs": [],
   "source": [
    "# Funcao para verificar valores missing no dataset\n",
    "def check_missing(df, display = 10):\n",
    "    temp_df = df.copy()\n",
    "    df_nan = (temp_df.isnull().sum() / len(temp_df)) * 100\n",
    "    missing_data = pd.DataFrame({'Missing n': temp_df.isnull().sum(),'% Missing' :df_nan})\n",
    "    if missing_data['Missing n'].sum() == 0:\n",
    "        return print('Ótimo! Não há mais valores faltantes neste dataset.')\n",
    "    else:\n",
    "        return missing_data.sort_values('% Missing', ascending = False).head(display)\n",
    "\n",
    "# Verificando as colunas com dados missing do dataset\n",
    "check_missing(train, display = 17)"
   ]
  },
  {
   "cell_type": "code",
   "execution_count": null,
   "metadata": {},
   "outputs": [],
   "source": [
    "train = train.dropna(subset=['dteday'])\n",
    "train.shape"
   ]
  },
  {
   "cell_type": "code",
   "execution_count": null,
   "metadata": {},
   "outputs": [],
   "source": [
    "# Fazendo previsões com o Modelo Decision Tree Regressor (Versao 01)\n",
    "\n",
    "# Import dos módulos\n",
    "from sklearn.tree import DecisionTreeRegressor\n",
    "from sklearn.metrics import r2_score\n",
    "\n",
    "# Criando um novo dataset somente com as colunas para a pergunta\n",
    "new_train = train[['hum','casual','cnt']]\n",
    "\n",
    "# Removendo os valores missing\n",
    "new_train.fillna(new_train.mean(), inplace=True)\n",
    "\n",
    "# Verificando as colunas com dados missing do dataset\n",
    "check_missing(new_train, display = 3)\n",
    "\n",
    "# Verificando o tamanho do dataset\n",
    "new_train.shape\n",
    "\n",
    "# Separando as features independentes e dependente (target)\n",
    "X = new_train[['hum','casual']]\n",
    "y = new_train['cnt']\n",
    "\n",
    "# Criando o modelo de arvore de decisão\n",
    "dt_model = DecisionTreeRegressor()\n",
    "\n",
    "# Fit do modelo\n",
    "dt_model.fit(X, y)\n",
    "\n",
    "# Previsões\n",
    "y_pred = dt_model.predict(X)\n",
    "\n",
    "# Avaliando as previsões\n",
    "accuracy = r2_score(y, y_pred)\n",
    "print(\"Score R2: %0.2f\" % accuracy)"
   ]
  },
  {
   "cell_type": "code",
   "execution_count": null,
   "metadata": {},
   "outputs": [],
   "source": [
    "#Modelo Linear Regression¶\n",
    "\n",
    "# Fazendo previsões com o Modelo Linear Regression\n",
    "\n",
    "# Import dos módulos\n",
    "from sklearn.linear_model import LinearRegression\n",
    "from sklearn.metrics import r2_score\n",
    "\n",
    "# Criando um novo dataset somente com as colunas para a pergunta\n",
    "new_train = train[['hum','casual','cnt']]\n",
    "\n",
    "# Preenchendo os valores missing com a media de cada uma das colunas\n",
    "new_train.fillna(new_train.mean(), inplace=True)\n",
    "\n",
    "# Verificando as colunas com dados missing do dataset\n",
    "check_missing(new_train, display = 3)\n",
    "\n",
    "# Verificando o tamanho do dataset\n",
    "new_train.shape\n",
    "\n",
    "# Separando as features independentes e dependente (target)\n",
    "X = new_train[['hum','casual']]\n",
    "y = new_train['cnt']\n",
    "\n",
    "# Criando o modelo de regressão linear\n",
    "lr_model = LinearRegression()\n",
    "\n",
    "# Fit do modelo\n",
    "lr_model.fit(X, y)\n",
    "\n",
    "# Previsões\n",
    "y_pred = lr_model.predict(X)\n",
    "\n",
    "# Avaliando as previsões\n",
    "accuracy = r2_score(y, y_pred)\n",
    "print(\"\\nScore R2: %0.2f\" % accuracy)"
   ]
  },
  {
   "cell_type": "code",
   "execution_count": null,
   "metadata": {},
   "outputs": [],
   "source": [
    "#Modelo SVM Regressor¶\n",
    "# Import dos módulos\n",
    "from sklearn.svm import SVR\n",
    "from sklearn.metrics import r2_score\n",
    "\n",
    "# Criando um novo dataset somente com as colunas para a pergunta\n",
    "new_train = train[['hum','casual','cnt']]\n",
    "\n",
    "# Preenchendo os valores missing com a media de cada uma das colunas\n",
    "new_train.fillna(new_train.mean(), inplace=True)\n",
    "\n",
    "# Verificando as colunas com dados missing do dataset\n",
    "check_missing(new_train, display = 3)\n",
    "\n",
    "# Verificando o tamanho do dataset\n",
    "new_train.shape\n",
    "\n",
    "# Separando as features independentes e dependente (target)\n",
    "X = new_train[['hum','casual']]\n",
    "y = new_train['cnt']\n",
    "\n",
    "# Criando o modelo SVM\n",
    "svm_model = SVR(kernel='rbf')\n",
    "\n",
    "# Fit do modelo\n",
    "svm_model.fit(X, y)\n",
    "\n",
    "# Previsões\n",
    "y_pred = svm_model.predict(X)\n",
    "\n",
    "# Avaliando as previsões\n",
    "accuracy = r2_score(y, y_pred)\n",
    "print(\"\\nScore R2: %0.2f\" % accuracy)\n"
   ]
  },
  {
   "cell_type": "code",
   "execution_count": null,
   "metadata": {},
   "outputs": [],
   "source": [
    "#train['temp'].describe()Verificando dados estatísticos da feature 'temp'¶\n",
    "train['temp'].describe()"
   ]
  },
  {
   "cell_type": "code",
   "execution_count": null,
   "metadata": {},
   "outputs": [],
   "source": [
    "#Transformando a variavel dteday para o formato datetime\n",
    "# Transformando a coluna data\n",
    "train['dteday'] = pd.to_datetime(train['dteday'])\n",
    "\n",
    "# Visualizando os ultimos registros\n",
    "train['dteday'].tail()"
   ]
  },
  {
   "cell_type": "code",
   "execution_count": null,
   "metadata": {},
   "outputs": [],
   "source": [
    "#Verificando correlação usando heatmap¶\n",
    "# Configurando o tamanho da area do grafico\n",
    "plt.figure(figsize=(20, 8))\n",
    "\n",
    "# Selecionando apenas algumas colunas para verificar a correlação\n",
    "corr = train[['season', 'temp', 'atemp', 'hum', 'windspeed', 'cnt']].corr()\n",
    "\n",
    "# Configurar o heatmap\n",
    "sns.heatmap(corr, linewidths=.5, vmin=-1, vmax=1, annot=True, cmap=\"YlGnBu\", fmt='.1g')\n",
    "\n",
    "# Imprimir o grafico\n",
    "plt.show();\n"
   ]
  },
  {
   "cell_type": "code",
   "execution_count": null,
   "metadata": {},
   "outputs": [],
   "source": [
    "#Verificando outliers com boxplot¶\n",
    "train[['windspeed']].boxplot();"
   ]
  },
  {
   "cell_type": "code",
   "execution_count": null,
   "metadata": {},
   "outputs": [],
   "source": [
    "#Transformando variavel 'season' em categorica¶\n",
    "# Transformando a feature season\n",
    "train['season'] = train['season'].astype('category')\n",
    "\n",
    "# Verificando todas as categorias (no caso são 4)\n",
    "train['season'].dtypes\n",
    "\n"
   ]
  },
  {
   "cell_type": "code",
   "execution_count": null,
   "metadata": {},
   "outputs": [],
   "source": [
    "#Verificando dados estatísticos da feature 'windspeed'¶\n",
    "# Verificando dados estatisticos somente da variavel 'windspeed'\n",
    "train['windspeed'].describe()"
   ]
  },
  {
   "cell_type": "code",
   "execution_count": null,
   "metadata": {},
   "outputs": [],
   "source": []
  }
 ],
 "metadata": {
  "kernelspec": {
   "display_name": "Python 3",
   "language": "python",
   "name": "python3"
  },
  "language_info": {
   "codemirror_mode": {
    "name": "ipython",
    "version": 3
   },
   "file_extension": ".py",
   "mimetype": "text/x-python",
   "name": "python",
   "nbconvert_exporter": "python",
   "pygments_lexer": "ipython3",
   "version": "3.7.6"
  }
 },
 "nbformat": 4,
 "nbformat_minor": 4
}
