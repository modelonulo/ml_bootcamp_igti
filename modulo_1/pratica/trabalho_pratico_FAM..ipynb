{
 "cells": [
  {
   "cell_type": "code",
   "execution_count": 2,
   "metadata": {},
   "outputs": [],
   "source": [
    "#importando as bibliotecas\n",
    "import pandas as pd #biblioteca utilizada para o tratamento de dados via dataframes \n",
    "import numpy as np #biblioteca utilizada para o tratamento de valores numéricos (vetores e matrizes)\n",
    "import matplotlib.pyplot as plt #biblioteca utilizada para construir os gráficos"
   ]
  },
  {
   "cell_type": "code",
   "execution_count": null,
   "metadata": {},
   "outputs": [],
   "source": [
    "from google.colab import files  #biblioteca utilizada para carregar os dados para o google colab\n",
    "uploaded = files.upload()"
   ]
  },
  {
   "cell_type": "code",
   "execution_count": 3,
   "metadata": {},
   "outputs": [],
   "source": [
    "#realizando a leitura do arquivo (dataset)\n",
    "nome_do_arquivo=\"data.csv\"\n",
    "dataframe_envio_portos= pd.read_csv(nome_do_arquivo)"
   ]
  },
  {
   "cell_type": "code",
   "execution_count": null,
   "metadata": {},
   "outputs": [],
   "source": [
    "#apresentando as 5 primeiras linhas do dataset\n",
    "dataframe_envio_portos.head().T"
   ]
  },
  {
   "cell_type": "code",
   "execution_count": null,
   "metadata": {},
   "outputs": [],
   "source": [
    "dataframe_envio_portos.info() #verificando os tipos de variáveis e se existem ou não valores nulos"
   ]
  },
  {
   "cell_type": "code",
   "execution_count": null,
   "metadata": {},
   "outputs": [],
   "source": [
    "# Funcao para verificar valores missing no dataset\n",
    "def percent_missing(df):\n",
    "    data = pd.DataFrame(df)\n",
    "    df_cols = list(pd.DataFrame(data))\n",
    "    dict_x = {}\n",
    "    for i in range(0, len(df_cols)):\n",
    "        dict_x.update({df_cols[i]: round(data[df_cols[i]].isnull().mean()*100,2)})\n",
    "    return dict_x\n",
    "\n",
    "# Verificando as colunas com dados missing do dataset\n",
    "missing = percent_missing(dataframe_envio_portos)\n",
    "df_miss = sorted(missing.items(), key=lambda x: x[1], reverse=True)\n",
    "print('Percent of missing data')\n",
    "df_miss[0:21]"
   ]
  },
  {
   "cell_type": "code",
   "execution_count": null,
   "metadata": {},
   "outputs": [],
   "source": [
    "#analisando a \"estatística\" do dataset\n",
    "dataframe_envio_portos.describe()"
   ]
  },
  {
   "cell_type": "code",
   "execution_count": 4,
   "metadata": {},
   "outputs": [
    {
     "data": {
      "text/plain": [
       "<matplotlib.axes._subplots.AxesSubplot at 0x7fa9499b2d10>"
      ]
     },
     "execution_count": 4,
     "metadata": {},
     "output_type": "execute_result"
    },
    {
     "data": {
      "image/png": "[encoded data removed]",
      "text/plain": [
       "<Figure size 432x288 with 1 Axes>"
      ]
     },
     "metadata": {
      "needs_background": "light"
     },
     "output_type": "display_data"
    }
   ],
   "source": [
    "#identificando possíveis outliers\n",
    "dataframe_envio_portos[['declared_quantity']].boxplot()"
   ]
  },
  {
   "cell_type": "code",
   "execution_count": null,
   "metadata": {},
   "outputs": [],
   "source": [
    "dataframe_envio_portos['declared_quantity'].plot()"
   ]
  },
  {
   "cell_type": "code",
   "execution_count": null,
   "metadata": {},
   "outputs": [],
   "source": [
    "#identificando possíveis outliers\n",
    "dataframe_envio_portos[['declared_cost']].boxplot()"
   ]
  },
  {
   "cell_type": "code",
   "execution_count": null,
   "metadata": {},
   "outputs": [],
   "source": [
    "dataframe_envio_portos['declared_cost'].plot()"
   ]
  },
  {
   "cell_type": "code",
   "execution_count": null,
   "metadata": {},
   "outputs": [],
   "source": [
    "#identificando possíveis outliers\n",
    "dataframe_envio_portos[['declared_weight']].boxplot()"
   ]
  },
  {
   "cell_type": "code",
   "execution_count": null,
   "metadata": {},
   "outputs": [],
   "source": [
    "dataframe_envio_portos['declared_weight'].plot()"
   ]
  },
  {
   "cell_type": "code",
   "execution_count": null,
   "metadata": {},
   "outputs": [],
   "source": [
    "#identificando possíveis outliers\n",
    "dataframe_envio_portos[['actual_weight']].boxplot()"
   ]
  },
  {
   "cell_type": "code",
   "execution_count": null,
   "metadata": {},
   "outputs": [],
   "source": [
    "dataframe_envio_portos['actual_weight'].plot()"
   ]
  },
  {
   "cell_type": "code",
   "execution_count": 5,
   "metadata": {},
   "outputs": [
    {
     "data": {
      "text/plain": [
       "<matplotlib.axes._subplots.AxesSubplot at 0x7fa949439210>"
      ]
     },
     "execution_count": 5,
     "metadata": {},
     "output_type": "execute_result"
    },
    {
     "data": {
      "image/png": "[encoded data removed]",
      "text/plain": [
       "<Figure size 432x288 with 1 Axes>"
      ]
     },
     "metadata": {
      "needs_background": "light"
     },
     "output_type": "display_data"
    }
   ],
   "source": [
    "#identificando possíveis outliers\n",
    "dataframe_envio_portos[['days_in_transit']].boxplot()"
   ]
  },
  {
   "cell_type": "code",
   "execution_count": null,
   "metadata": {},
   "outputs": [],
   "source": [
    "dataframe_envio_portos['days_in_transit'].plot()"
   ]
  },
  {
   "cell_type": "code",
   "execution_count": 8,
   "metadata": {},
   "outputs": [],
   "source": [
    "#realizando a análise de regressão\n",
    "x=dataframe_envio_portos['declared_weight'].values  #variável independente \n",
    "Y=dataframe_envio_portos['actual_weight'].values #variável dependente"
   ]
  },
  {
   "cell_type": "code",
   "execution_count": 9,
   "metadata": {},
   "outputs": [],
   "source": [
    "#importa o modelo de regressão linear univariada\n",
    "from sklearn.linear_model import LinearRegression"
   ]
  },
  {
   "cell_type": "code",
   "execution_count": 10,
   "metadata": {},
   "outputs": [],
   "source": [
    "#Realiza a construção do modelo de regressão\n",
    "reg= LinearRegression()\n",
    "x_Reshaped=x.reshape((-1, 1)) #coloca os dados no formato 2D\n",
    "regressao= reg.fit (x_Reshaped,Y) # encontra os coeficientes (realiza a regressão)"
   ]
  },
  {
   "cell_type": "code",
   "execution_count": 11,
   "metadata": {},
   "outputs": [],
   "source": [
    "#realiza a previsão\n",
    "previsao=reg.predict(x_Reshaped)"
   ]
  },
  {
   "cell_type": "code",
   "execution_count": 12,
   "metadata": {},
   "outputs": [],
   "source": [
    "#análise do modelo\n",
    "from sklearn.metrics import r2_score #método para o cálculo do R2 (coeficiente de determinação)"
   ]
  },
  {
   "cell_type": "code",
   "execution_count": 13,
   "metadata": {},
   "outputs": [
    {
     "name": "stdout",
     "output_type": "stream",
     "text": [
      "Coeficiente angular da regressão linear (a): [1.03718115]\n",
      "Coeficiente linear da regressão linear (b): -5.296\n",
      "Coeficiente de Determinação (R2): 0.9993288165644932\n"
     ]
    }
   ],
   "source": [
    "#parâmetros encontrados\n",
    "print('Coeficiente angular da regressão linear (a): {}'.format(reg.coef_))\n",
    "print('Coeficiente linear da regressão linear (b): {:.3f}'.format(reg.intercept_))\n",
    "\n",
    "R_2 = r2_score(Y, previsao)  #realiza o cálculo do R2\n",
    "\n",
    "print(\"Coeficiente de Determinação (R2):\", R_2)"
   ]
  },
  {
   "cell_type": "code",
   "execution_count": 14,
   "metadata": {},
   "outputs": [
    {
     "data": {
      "image/png": "[encoded data removed]",
      "text/plain": [
       "<Figure size 400x400 with 1 Axes>"
      ]
     },
     "metadata": {
      "needs_background": "light"
     },
     "output_type": "display_data"
    }
   ],
   "source": [
    "#realiza o plot dos dados\n",
    "plt.figure(figsize=(4, 4), dpi=100)\n",
    "plt.scatter(x, Y,  color='gray') #realiza o plot do gráfico de dispersão\n",
    "plt.plot(x, previsao, color='red', linewidth=2) # realiza o plto da \"linha\"\n",
    "plt.xlabel(\"Peso Declarado\")\n",
    "plt.ylabel(\"Peso Real\")\n",
    "plt.show()\n"
   ]
  }
 ],
 "metadata": {
  "kernelspec": {
   "display_name": "Python 3",
   "language": "python",
   "name": "python3"
  },
  "language_info": {
   "codemirror_mode": {
    "name": "ipython",
    "version": 3
   },
   "file_extension": ".py",
   "mimetype": "text/x-python",
   "name": "python",
   "nbconvert_exporter": "python",
   "pygments_lexer": "ipython3",
   "version": "3.7.6"
  }
 },
 "nbformat": 4,
 "nbformat_minor": 4
}
