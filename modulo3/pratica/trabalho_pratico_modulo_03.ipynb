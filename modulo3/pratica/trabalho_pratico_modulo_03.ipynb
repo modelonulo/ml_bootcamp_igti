{
 "cells": [
  {
   "cell_type": "markdown",
   "metadata": {},
   "source": [
    "\n",
    "Descrição do Problema\n",
    "\n",
    "    Trabalho Final - O dataset IRIS\n",
    "    Amostras por classe: 50\n",
    "    Dimensionalidade: 4\n",
    "    Tipo das features: Números reais positivos\n",
    "\n",
    "O conjunto de dados IRIS talvez seja o mais clássico dos conjuntos de testes de algoritmos de classificação. Ele divide amostras de plantas em três espécies diferentes e tem, como features, a altura e largura de duas partes da planta: a sépala e as pétalas. Neste trabalho você deve classificar esse conjunto de dados com pelo menos dois algoritmos. Você deverá analisá-los segundo as métricas de qualidade que julgar relevantes, e utilizar técnicas de busca de hiperparâmetros e validação cruzada para tornar seus resultados mais robustos.\n",
    "\n",
    "Fonte: http://scikit-learn.org/stable/modules/generated/sklearn.datasets.load_iris.html\n",
    "\n",
    "Observação: gerar gráficos que expliquem e ilustrem o seu problema não é parte obrigatória da resolução do trabalho, mas é um treino bastante recomendado. Além disso, será necessário consultar a documentação do scikit-learn para fazer esse trabalho. Busque por “algoritmos de classificação” e pelos códigos mostrados durante as aulas interativas. Saber consultar documentações é uma habilidade importante de quem trabalha com Aprendizado de Máquina, e é isso que pretendemos desenvolver aqui!\n"
   ]
  },
  {
   "cell_type": "code",
   "execution_count": 1,
   "metadata": {},
   "outputs": [],
   "source": [
    "import seaborn\n"
   ]
  },
  {
   "cell_type": "code",
   "execution_count": 1,
   "metadata": {},
   "outputs": [],
   "source": [
    "# Imports de avisos\n",
    "import sys\n",
    "import warnings\n",
    "import matplotlib.cbook\n",
    "if not sys.warnoptions:\n",
    "    warnings.simplefilter(\"ignore\")\n",
    "warnings.simplefilter(action='ignore', category=FutureWarning)\n",
    "warnings.filterwarnings(\"ignore\", category=FutureWarning)\n",
    "warnings.filterwarnings(\"ignore\", category=matplotlib.cbook.mplDeprecation)\n",
    "\n",
    "# Imports para manipulação de dados\n",
    "import numpy as np\n",
    "import pandas as pd\n",
    "\n",
    "# Importando o dataset iris\n",
    "from sklearn import datasets\n",
    "\n",
    "# Imports para visualização de dados\n",
    "import matplotlib.pyplot as plt\n",
    "import matplotlib as m\n",
    "import matplotlib.dates as mdates\n",
    "from matplotlib.ticker import MaxNLocator\n",
    "import seaborn as sns\n",
    "import plotly as py\n",
    "import plotly.express as px\n",
    "import plotly.graph_objs as go \n",
    "from plotly.offline import download_plotlyjs, init_notebook_mode, plot, iplot\n",
    "from IPython.core.interactiveshell import InteractiveShell\n",
    "InteractiveShell.ast_node_interactivity = \"all\"\n",
    "pd.options.display.max_columns = 2000\n",
    "pd.options.display.max_rows = 2000"
   ]
  },
  {
   "cell_type": "code",
   "execution_count": 2,
   "metadata": {},
   "outputs": [],
   "source": [
    "# Modelos de Machine Learning\n",
    "from sklearn.ensemble import RandomForestClassifier\n",
    "from sklearn.neighbors import KNeighborsClassifier\n",
    "\n",
    "# Outras bibliotecas do sklearn\n",
    "from sklearn.decomposition import PCA\n",
    "from sklearn.model_selection import GridSearchCV\n",
    "from sklearn.model_selection import train_test_split\n",
    "from sklearn import metrics\n",
    "from sklearn.metrics import classification_report, confusion_matrix\n",
    "from mlxtend.plotting import plot_confusion_matrix"
   ]
  },
  {
   "cell_type": "code",
   "execution_count": 3,
   "metadata": {},
   "outputs": [
    {
     "name": "stdout",
     "output_type": "stream",
     "text": [
      "seaborn    0.11.0\n",
      "numpy      1.19.1\n",
      "plotly     4.10.0\n",
      "matplotlib 3.3.1\n",
      "pandas     1.1.1\n",
      "Trabalho Prático 03 - camila\n"
     ]
    }
   ],
   "source": [
    "# Versões dos pacotes usados neste jupyter notebook\n",
    "%reload_ext watermark\n",
    "%watermark -a \"Trabalho Prático 03 - camila\" --iversions"
   ]
  },
  {
   "cell_type": "code",
   "execution_count": 4,
   "metadata": {},
   "outputs": [
    {
     "name": "stdout",
     "output_type": "stream",
     "text": [
      "(150, 3)\n",
      "<class 'pandas.core.frame.DataFrame'>\n",
      "RangeIndex: 150 entries, 0 to 149\n",
      "Data columns (total 3 columns):\n",
      " #   Column        Non-Null Count  Dtype  \n",
      "---  ------        --------------  -----  \n",
      " 0   sepal_length  150 non-null    float64\n",
      " 1   sepal_width   150 non-null    float64\n",
      " 2   species       150 non-null    int64  \n",
      "dtypes: float64(2), int64(1)\n",
      "memory usage: 3.6 KB\n"
     ]
    },
    {
     "data": {
      "text/html": [
       "<div>\n",
       "<style scoped>\n",
       "    .dataframe tbody tr th:only-of-type {\n",
       "        vertical-align: middle;\n",
       "    }\n",
       "\n",
       "    .dataframe tbody tr th {\n",
       "        vertical-align: top;\n",
       "    }\n",
       "\n",
       "    .dataframe thead th {\n",
       "        text-align: right;\n",
       "    }\n",
       "</style>\n",
       "<table border=\"1\" class=\"dataframe\">\n",
       "  <thead>\n",
       "    <tr style=\"text-align: right;\">\n",
       "      <th></th>\n",
       "      <th>sepal_length</th>\n",
       "      <th>sepal_width</th>\n",
       "      <th>species</th>\n",
       "    </tr>\n",
       "  </thead>\n",
       "  <tbody>\n",
       "    <tr>\n",
       "      <th>0</th>\n",
       "      <td>5.1</td>\n",
       "      <td>3.5</td>\n",
       "      <td>0</td>\n",
       "    </tr>\n",
       "    <tr>\n",
       "      <th>1</th>\n",
       "      <td>4.9</td>\n",
       "      <td>3.0</td>\n",
       "      <td>0</td>\n",
       "    </tr>\n",
       "    <tr>\n",
       "      <th>2</th>\n",
       "      <td>4.7</td>\n",
       "      <td>3.2</td>\n",
       "      <td>0</td>\n",
       "    </tr>\n",
       "    <tr>\n",
       "      <th>3</th>\n",
       "      <td>4.6</td>\n",
       "      <td>3.1</td>\n",
       "      <td>0</td>\n",
       "    </tr>\n",
       "    <tr>\n",
       "      <th>4</th>\n",
       "      <td>5.0</td>\n",
       "      <td>3.6</td>\n",
       "      <td>0</td>\n",
       "    </tr>\n",
       "  </tbody>\n",
       "</table>\n",
       "</div>"
      ],
      "text/plain": [
       "   sepal_length  sepal_width  species\n",
       "0           5.1          3.5        0\n",
       "1           4.9          3.0        0\n",
       "2           4.7          3.2        0\n",
       "3           4.6          3.1        0\n",
       "4           5.0          3.6        0"
      ]
     },
     "execution_count": 4,
     "metadata": {},
     "output_type": "execute_result"
    }
   ],
   "source": [
    "iris = datasets.load_iris()\n",
    "\n",
    "data = pd.DataFrame({\n",
    "    'sepal_length':iris.data[:,0],\n",
    "    'sepal_width' :iris.data[:,1],\n",
    "    'species'     :iris.target\n",
    "})\n",
    "\n",
    "# Visualizando o shape do dataset (150 linhas x 3 colunas)\n",
    "print(data.shape)\n",
    "\n",
    "# Verificando os tipos de dados\n",
    "data.info()\n",
    "\n",
    "# Visualizando as primeiras linhas do dataset\n",
    "data.head()"
   ]
  },
  {
   "cell_type": "code",
   "execution_count": 5,
   "metadata": {},
   "outputs": [
    {
     "name": "stdout",
     "output_type": "stream",
     "text": [
      "['setosa' 'versicolor' 'virginica']\n"
     ]
    }
   ],
   "source": [
    "#analisando feature species\n",
    "# Verificar as classes de especies no dataset\n",
    "print(iris.target_names)"
   ]
  },
  {
   "cell_type": "code",
   "execution_count": 6,
   "metadata": {},
   "outputs": [],
   "source": [
    "#Criação e Validação dos Modelos de Machine Learning¶\n",
    "#Preparando os dados para treinamento do baseline¶\n",
    "\n",
    "# Vamos armazenar 'target' no rótulo (y) e as duas primeiras colunas do dataset em X\n",
    "X = iris.data[:, :2]\n",
    "y = iris.target\n",
    "\n",
    "# Split do dataset em treino e teste: 70% treino and 30% teste\n",
    "X_train, X_test, y_train, y_test = train_test_split(X, y, test_size=0.3)"
   ]
  },
  {
   "cell_type": "code",
   "execution_count": 7,
   "metadata": {},
   "outputs": [
    {
     "data": {
      "text/plain": [
       "RandomForestClassifier()"
      ]
     },
     "execution_count": 7,
     "metadata": {},
     "output_type": "execute_result"
    },
    {
     "name": "stdout",
     "output_type": "stream",
     "text": [
      "Acurácia: 0.6666666666666666\n"
     ]
    }
   ],
   "source": [
    "# Criando a instancia do modelo RF\n",
    "model_rf = RandomForestClassifier(n_estimators=100)\n",
    "\n",
    "# Realizando o fit do modelo com os dados de treino\n",
    "model_rf.fit(X_train, y_train)\n",
    "\n",
    "# Realizando as previsões com os dados de teste\n",
    "y_pred = model_rf.predict(X_test)\n",
    "\n",
    "# Verificando o desempenho do modelo usando a metrica Accuracy\n",
    "print(\"Acurácia:\",metrics.accuracy_score(y_test, y_pred))"
   ]
  },
  {
   "cell_type": "code",
   "execution_count": 8,
   "metadata": {},
   "outputs": [
    {
     "data": {
      "text/plain": [
       "'setosa'"
      ]
     },
     "execution_count": 8,
     "metadata": {},
     "output_type": "execute_result"
    }
   ],
   "source": [
    "# Realizando um simples teste como novos dados\n",
    "novo_dado = model_rf.predict([[5.8, 3.5]])[0]\n",
    "\n",
    "# Verificando qual a espécie desse novo dado\n",
    "iris.target_names[novo_dado]\n",
    "\n"
   ]
  },
  {
   "cell_type": "code",
   "execution_count": 9,
   "metadata": {},
   "outputs": [
    {
     "data": {
      "text/plain": [
       "GridSearchCV(cv=10, estimator=RandomForestClassifier(), n_jobs=-1,\n",
       "             param_grid={'n_estimators': (5, 300)}, scoring='accuracy')"
      ]
     },
     "execution_count": 9,
     "metadata": {},
     "output_type": "execute_result"
    },
    {
     "data": {
      "text/plain": [
       "0.7533333333333333"
      ]
     },
     "execution_count": 9,
     "metadata": {},
     "output_type": "execute_result"
    },
    {
     "data": {
      "text/plain": [
       "{'n_estimators': 5}"
      ]
     },
     "execution_count": 9,
     "metadata": {},
     "output_type": "execute_result"
    },
    {
     "name": "stdout",
     "output_type": "stream",
     "text": [
      "Acurácia: 0.8888888888888888\n"
     ]
    }
   ],
   "source": [
    "#Realizando o treinamento usando Random Forest Classifier com GridSearchCV\n",
    "\n",
    "\n",
    "params = {'n_estimators': (5, 300)}\n",
    "\n",
    "grid_rf = GridSearchCV(RandomForestClassifier(), params, cv=10, n_jobs=-1, scoring='accuracy')\n",
    "grid_rf.fit(X, y)\n",
    "grid_rf.best_score_\n",
    "grid_rf.best_params_\n",
    "\n",
    "# Realizando as previsões com os dados de teste\n",
    "y_pred_ot = grid_rf.predict(X_test)\n",
    "\n",
    "# Verificando o desempenho do modelo usando a metrica Accuracy\n",
    "print(\"Acurácia:\",metrics.accuracy_score(y_test, y_pred_ot))\n",
    "\n"
   ]
  },
  {
   "cell_type": "code",
   "execution_count": 12,
   "metadata": {},
   "outputs": [
    {
     "name": "stdout",
     "output_type": "stream",
     "text": [
      "[[15  0  0]\n",
      " [ 0 12  4]\n",
      " [ 0  1 13]]\n"
     ]
    },
    {
     "data": {
      "image/png": "[encoded data removed]",
      "text/plain": [
       "<Figure size 432x288 with 1 Axes>"
      ]
     },
     "metadata": {
      "needs_background": "light"
     },
     "output_type": "display_data"
    }
   ],
   "source": [
    "#Verificando o desempenho do modelo¶\n",
    "# Contrução da matriz de confusão\n",
    "matriz_confusao = confusion_matrix(y_test, y_pred_ot)\n",
    "print(matriz_confusao)\n",
    "\n",
    "#Realiza o plot da matriz de confusão\n",
    "fig, ax = plot_confusion_matrix(conf_mat=matriz_confusao)\n",
    "plt.show() \n"
   ]
  },
  {
   "cell_type": "code",
   "execution_count": 13,
   "metadata": {},
   "outputs": [
    {
     "data": {
      "text/plain": [
       "KNeighborsClassifier()"
      ]
     },
     "execution_count": 13,
     "metadata": {},
     "output_type": "execute_result"
    },
    {
     "name": "stdout",
     "output_type": "stream",
     "text": [
      "Acurácia: 0.7333333333333333\n"
     ]
    }
   ],
   "source": [
    "\n",
    "#Realizando o treinamento usando KNeighborsClassifier\n",
    "\n",
    "\n",
    "# Criando a instancia do modelo KNN\n",
    "model_knn = KNeighborsClassifier(n_neighbors=5)\n",
    "\n",
    "# Realizando o fit do modelo com os dados de treino\n",
    "model_knn.fit(X_train, y_train)\n",
    "\n",
    "# Realizando as previsões com os dados de teste\n",
    "y_pred = model_knn.predict(X_test)\n",
    "\n",
    "# Verificando o desempenho do modelo usando a metrica Accuracy\n",
    "print(\"Acurácia:\",metrics.accuracy_score(y_test, y_pred))\n",
    "\n"
   ]
  },
  {
   "cell_type": "code",
   "execution_count": 16,
   "metadata": {},
   "outputs": [
    {
     "data": {
      "text/plain": [
       "GridSearchCV(cv=10, estimator=KNeighborsClassifier(),\n",
       "             param_grid={'n_neighbors': range(1, 30),\n",
       "                         'weights': ['uniform', 'distance']},\n",
       "             scoring='accuracy')"
      ]
     },
     "execution_count": 16,
     "metadata": {},
     "output_type": "execute_result"
    },
    {
     "name": "stdout",
     "output_type": "stream",
     "text": [
      "0.8000000000000002\n",
      "{'n_neighbors': 23, 'weights': 'uniform'}\n",
      "KNeighborsClassifier(n_neighbors=23)\n",
      "Acurácia: 0.8222222222222222\n"
     ]
    }
   ],
   "source": [
    "#Realizando o treinamento usando KNeighborsClassifier com GridSearchCV\n",
    "\n",
    "\n",
    "params = {'n_neighbors': range(1,30), \n",
    "          'weights'    : [\"uniform\", \"distance\"]}\n",
    "\n",
    "grid_knn = GridSearchCV(KNeighborsClassifier(), params, cv=10, scoring='accuracy')\n",
    "grid_knn.fit(X, y)\n",
    "\n",
    "print (grid_knn.best_score_)\n",
    "print (grid_knn.best_params_)\n",
    "print (grid_knn.best_estimator_)\n",
    "\n",
    "# Realizando as previsões com os dados de teste\n",
    "y_pred_knn_ot = grid_knn.predict(X_test)\n",
    "\n",
    "# Verificando o desempenho do modelo usando a metrica Accuracy\n",
    "print(\"Acurácia:\",metrics.accuracy_score(y_test, y_pred_knn_ot))\n",
    "\n"
   ]
  },
  {
   "cell_type": "code",
   "execution_count": 17,
   "metadata": {},
   "outputs": [
    {
     "name": "stdout",
     "output_type": "stream",
     "text": [
      "[[15  0  0]\n",
      " [ 0 12  4]\n",
      " [ 0  1 13]]\n"
     ]
    },
    {
     "data": {
      "image/png": "[encoded data removed]",
      "text/plain": [
       "<Figure size 432x288 with 1 Axes>"
      ]
     },
     "metadata": {
      "needs_background": "light"
     },
     "output_type": "display_data"
    }
   ],
   "source": [
    "# Contrução da matriz de confusão\n",
    "matriz_confusao_knn = confusion_matrix(y_test, y_pred_knn_ot)\n",
    "print(matriz_confusao)\n",
    "\n",
    "# Realiza o plot da matriz de confusão\n",
    "fig, ax = plot_confusion_matrix(conf_mat=matriz_confusao_knn)\n",
    "plt.show()"
   ]
  },
  {
   "cell_type": "code",
   "execution_count": null,
   "metadata": {},
   "outputs": [],
   "source": []
  }
 ],
 "metadata": {
  "kernelspec": {
   "display_name": "Python 3",
   "language": "python",
   "name": "python3"
  },
  "language_info": {
   "codemirror_mode": {
    "name": "ipython",
    "version": 3
   },
   "file_extension": ".py",
   "mimetype": "text/x-python",
   "name": "python",
   "nbconvert_exporter": "python",
   "pygments_lexer": "ipython3",
   "version": "3.7.6"
  }
 },
 "nbformat": 4,
 "nbformat_minor": 4
}
